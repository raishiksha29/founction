{
  "nbformat": 4,
  "nbformat_minor": 0,
  "metadata": {
    "colab": {
      "provenance": []
    },
    "kernelspec": {
      "name": "python3",
      "display_name": "Python 3"
    },
    "language_info": {
      "name": "python"
    }
  },
  "cells": [
    {
      "cell_type": "code",
      "source": [
        "a=10\n",
        "b=3\n",
        "c=a+b\n",
        "print(c)"
      ],
      "metadata": {
        "colab": {
          "base_uri": "https://localhost:8080/"
        },
        "id": "iTZk7t1QX8s0",
        "outputId": "4daf84ff-d6d3-4fb0-e267-a7b8b178d0bd"
      },
      "execution_count": null,
      "outputs": [
        {
          "output_type": "stream",
          "name": "stdout",
          "text": [
            "13\n"
          ]
        }
      ]
    },
    {
      "cell_type": "code",
      "source": [
        "a=54999\n",
        "b=2999\n",
        "result=a+b\n",
        "#addition of {} and {} is {}\n",
        "print(\"Addition of {} and {} is {}\".format(a,b,result))\n",
        "print(\"addition of {} and {} is {}\".format(result,a,b))"
      ],
      "metadata": {
        "id": "9OcSUUCBYJrB",
        "colab": {
          "base_uri": "https://localhost:8080/"
        },
        "outputId": "1b27d9d0-745f-407c-c54e-15ea949e5ef4"
      },
      "execution_count": null,
      "outputs": [
        {
          "output_type": "stream",
          "name": "stdout",
          "text": [
            "Addition of 54999 and 2999 is 57998\n",
            "addition of 57998 and 54999 is 2999\n"
          ]
        }
      ]
    },
    {
      "cell_type": "code",
      "source": [
        "#addition of 54999 and 2999 is 57998\n",
        "a=54999\n",
        "b=2999\n",
        "result=a+b\n",
        "print(\"addition of\",a,\"and\",b,\"is\",result)\n"
      ],
      "metadata": {
        "colab": {
          "base_uri": "https://localhost:8080/"
        },
        "id": "bE0zuITsoTjr",
        "outputId": "d3ef9bef-6199-4c61-e304-8c376fe13012"
      },
      "execution_count": null,
      "outputs": [
        {
          "output_type": "stream",
          "name": "stdout",
          "text": [
            "addition of 54999 and 2999 is 57998\n"
          ]
        }
      ]
    },
    {
      "cell_type": "code",
      "source": [
        "a=54999\n",
        "b=2999\n",
        "result=a+b\n",
        "print(\"addition of \"+str(a)+\"and\"+str(b))\n"
      ],
      "metadata": {
        "colab": {
          "base_uri": "https://localhost:8080/"
        },
        "id": "ohJNUd2nqgwR",
        "outputId": "cfa3bbb1-7aff-429c-ae8d-501d066f2cd7"
      },
      "execution_count": null,
      "outputs": [
        {
          "output_type": "stream",
          "name": "stdout",
          "text": [
            "addition of 54999and2999\n"
          ]
        }
      ]
    },
    {
      "cell_type": "code",
      "source": [
        "name=input()\n",
        "age =input()\n"
      ],
      "metadata": {
        "id": "6spNnNWmJ6-d"
      },
      "execution_count": null,
      "outputs": []
    },
    {
      "cell_type": "code",
      "source": [
        "a=54999\n",
        "b=2999\n",
        "result=a+b\n",
        "#addition of {} and {} is {}\n",
        "print(\"Addition of {} and {} is {}\".format(a,b,result))\n",
        "print(\"addition of {} and {} is {}\".format(result,a,b))"
      ],
      "metadata": {
        "colab": {
          "base_uri": "https://localhost:8080/"
        },
        "id": "H8hP3uUXrudf",
        "outputId": "6b9c6d4b-356d-498d-f603-68579ea195c9"
      },
      "execution_count": null,
      "outputs": [
        {
          "output_type": "stream",
          "name": "stdout",
          "text": [
            "Addition of 54999 and 2999 is 57998\n",
            "addition of 57998 and 54999 is 2999\n"
          ]
        }
      ]
    },
    {
      "cell_type": "code",
      "source": [
        "age= int(input(\"Enter your age: \"))\n",
        "if age <= 18:\n",
        "    print(\"you are eligible to vote, \")"
      ],
      "metadata": {
        "id": "Cdvvik9vNJkx"
      },
      "execution_count": null,
      "outputs": []
    },
    {
      "cell_type": "code",
      "source": [
        "x=10\n",
        "If x = 10:\n",
        "    print(\"match found, \")\n"
      ],
      "metadata": {
        "id": "rTmSgzkVKRJB"
      },
      "execution_count": null,
      "outputs": []
    },
    {
      "cell_type": "code",
      "source": [
        "students = [\" sara \", \" neha \", \" kanak \",]\n",
        "for student in students:\n",
        "  print(\"enrolled student:\", student)"
      ],
      "metadata": {
        "colab": {
          "base_uri": "https://localhost:8080/"
        },
        "id": "NwtIOMR3yBbc",
        "outputId": "04e246c7-42b0-46c9-ff93-8ae596c6a725"
      },
      "execution_count": null,
      "outputs": [
        {
          "output_type": "stream",
          "name": "stdout",
          "text": [
            "enrolled student:  sara \n",
            "enrolled student:  neha \n",
            "enrolled student:  kanak \n"
          ]
        }
      ]
    },
    {
      "cell_type": "code",
      "source": [
        "marks = [30,50,60,90]\n",
        "for score in marks:\n",
        "  print(\"score:\", score)"
      ],
      "metadata": {
        "colab": {
          "base_uri": "https://localhost:8080/"
        },
        "id": "x16d9ibhyp-M",
        "outputId": "539c6f8c-f1f0-4f24-f3bf-a607c664de90"
      },
      "execution_count": null,
      "outputs": [
        {
          "output_type": "stream",
          "name": "stdout",
          "text": [
            "score: 30\n",
            "score: 50\n",
            "score: 60\n",
            "score: 90\n"
          ]
        }
      ]
    },
    {
      "cell_type": "code",
      "source": [
        "student_name = [\" arun \", \" sara \", \" mini \"]\n",
        "for attend_class in student_name:\n",
        "  print(\"attend class:\", attend_class)"
      ],
      "metadata": {
        "colab": {
          "base_uri": "https://localhost:8080/"
        },
        "id": "LO5f8SlOzkDT",
        "outputId": "4c9e7589-a3db-4285-ea27-0a160407bfe9"
      },
      "execution_count": null,
      "outputs": [
        {
          "output_type": "stream",
          "name": "stdout",
          "text": [
            "attend class:  arun \n",
            "attend class:  sara \n",
            "attend class:  mini \n"
          ]
        }
      ]
    },
    {
      "cell_type": "code",
      "source": [
        "for i in range(5001,5010):\n",
        "    print(i)"
      ],
      "metadata": {
        "colab": {
          "base_uri": "https://localhost:8080/"
        },
        "id": "Sb5Ry3utAKIJ",
        "outputId": "6c20bf29-15c9-4639-d340-ebadb5104c17"
      },
      "execution_count": null,
      "outputs": [
        {
          "output_type": "stream",
          "name": "stdout",
          "text": [
            "5001\n",
            "5002\n",
            "5003\n",
            "5004\n",
            "5005\n",
            "5006\n",
            "5007\n",
            "5008\n",
            "5009\n"
          ]
        }
      ]
    },
    {
      "cell_type": "code",
      "source": [
        "for macbook in range(101,120):\n",
        "  print(macbook)\n"
      ],
      "metadata": {
        "colab": {
          "base_uri": "https://localhost:8080/"
        },
        "id": "gZEsImKwANJe",
        "outputId": "956b2cd5-7869-41aa-c624-a3e2614abd2b"
      },
      "execution_count": null,
      "outputs": [
        {
          "output_type": "stream",
          "name": "stdout",
          "text": [
            "101\n",
            "102\n",
            "103\n",
            "104\n",
            "105\n",
            "106\n",
            "107\n",
            "108\n",
            "109\n",
            "110\n",
            "111\n",
            "112\n",
            "113\n",
            "114\n",
            "115\n",
            "116\n",
            "117\n",
            "118\n",
            "119\n"
          ]
        }
      ]
    },
    {
      "cell_type": "code",
      "source": [
        "for box in range(200, 280, 10):\n",
        "  print(box)\n"
      ],
      "metadata": {
        "colab": {
          "base_uri": "https://localhost:8080/"
        },
        "id": "GNjYe-XhAtNN",
        "outputId": "8534e944-040f-418c-de4b-c69cd68a8392"
      },
      "execution_count": null,
      "outputs": [
        {
          "output_type": "stream",
          "name": "stdout",
          "text": [
            "200\n",
            "210\n",
            "220\n",
            "230\n",
            "240\n",
            "250\n",
            "260\n",
            "270\n"
          ]
        }
      ]
    },
    {
      "cell_type": "code",
      "source": [
        "b = 12\n",
        "b = b+4\n",
        "b"
      ],
      "metadata": {
        "colab": {
          "base_uri": "https://localhost:8080/"
        },
        "id": "CW1qyR25Puyi",
        "outputId": "a80e2a66-6c86-489e-8d5d-9362d4434e9d"
      },
      "execution_count": null,
      "outputs": [
        {
          "output_type": "execute_result",
          "data": {
            "text/plain": [
              "16"
            ]
          },
          "metadata": {},
          "execution_count": 4
        }
      ]
    },
    {
      "cell_type": "code",
      "source": [
        "b = 10\n",
        "b +=4\n",
        "b"
      ],
      "metadata": {
        "colab": {
          "base_uri": "https://localhost:8080/"
        },
        "id": "F9PyMQXXQJHc",
        "outputId": "22c3059e-768c-47ce-a391-d96b60abd30d"
      },
      "execution_count": null,
      "outputs": [
        {
          "output_type": "execute_result",
          "data": {
            "text/plain": [
              "14"
            ]
          },
          "metadata": {},
          "execution_count": 5
        }
      ]
    },
    {
      "cell_type": "code",
      "source": [
        "b = 15\n",
        "b *= 4\n",
        "b"
      ],
      "metadata": {
        "colab": {
          "base_uri": "https://localhost:8080/"
        },
        "id": "esF_NTx1QTZW",
        "outputId": "8ca3438d-45da-401e-fee8-237019801ef7"
      },
      "execution_count": null,
      "outputs": [
        {
          "output_type": "execute_result",
          "data": {
            "text/plain": [
              "60"
            ]
          },
          "metadata": {},
          "execution_count": 6
        }
      ]
    },
    {
      "cell_type": "code",
      "source": [
        "#membership operator\n",
        "a = \"hello word\"\n",
        "print(\"hello_word in a\")\n",
        "print(\"hello_word not in a\")"
      ],
      "metadata": {
        "colab": {
          "base_uri": "https://localhost:8080/"
        },
        "id": "jWTsLNJ9QmY9",
        "outputId": "72e61a10-a9e2-4ae0-c149-978b529e5263"
      },
      "execution_count": null,
      "outputs": [
        {
          "output_type": "stream",
          "name": "stdout",
          "text": [
            "hello_word in a\n",
            "hello_word not in a\n"
          ]
        }
      ]
    },
    {
      "cell_type": "code",
      "source": [
        "a = 2\n",
        "b = a\n",
        "a is b"
      ],
      "metadata": {
        "colab": {
          "base_uri": "https://localhost:8080/"
        },
        "id": "roaOSE9hRpcH",
        "outputId": "52516b29-e606-42ea-acf2-24fb5f35474d"
      },
      "execution_count": null,
      "outputs": [
        {
          "output_type": "execute_result",
          "data": {
            "text/plain": [
              "True"
            ]
          },
          "metadata": {},
          "execution_count": 9
        }
      ]
    },
    {
      "cell_type": "code",
      "source": [
        "bin(3)"
      ],
      "metadata": {
        "colab": {
          "base_uri": "https://localhost:8080/",
          "height": 36
        },
        "id": "hPr4KNgcUO-Q",
        "outputId": "0728b2d9-37e9-42c8-a8a0-50d54d46a10c"
      },
      "execution_count": null,
      "outputs": [
        {
          "output_type": "execute_result",
          "data": {
            "text/plain": [
              "'0b11'"
            ],
            "application/vnd.google.colaboratory.intrinsic+json": {
              "type": "string"
            }
          },
          "metadata": {},
          "execution_count": 10
        }
      ]
    },
    {
      "cell_type": "code",
      "source": [
        "bin(9)"
      ],
      "metadata": {
        "colab": {
          "base_uri": "https://localhost:8080/",
          "height": 36
        },
        "id": "dILYeQ58UTtz",
        "outputId": "183064ff-6c90-4cc0-880b-74f60be0db26"
      },
      "execution_count": null,
      "outputs": [
        {
          "output_type": "execute_result",
          "data": {
            "text/plain": [
              "'0b1001'"
            ],
            "application/vnd.google.colaboratory.intrinsic+json": {
              "type": "string"
            }
          },
          "metadata": {},
          "execution_count": 11
        }
      ]
    },
    {
      "cell_type": "code",
      "source": [
        "bin(10)"
      ],
      "metadata": {
        "id": "8zKgtA1lUWLU",
        "outputId": "227f21c9-487a-4d27-ddb2-182928376ba6",
        "colab": {
          "base_uri": "https://localhost:8080/",
          "height": 36
        }
      },
      "execution_count": null,
      "outputs": [
        {
          "output_type": "execute_result",
          "data": {
            "text/plain": [
              "'0b1010'"
            ],
            "application/vnd.google.colaboratory.intrinsic+json": {
              "type": "string"
            }
          },
          "metadata": {},
          "execution_count": 12
        }
      ]
    },
    {
      "cell_type": "code",
      "source": [
        "a =\"2\"\n",
        "type(a)"
      ],
      "metadata": {
        "colab": {
          "base_uri": "https://localhost:8080/"
        },
        "id": "si0MdLgoSSlQ",
        "outputId": "859fa93d-1a5f-497a-d6f0-2a26a9b0a394"
      },
      "execution_count": null,
      "outputs": [
        {
          "output_type": "execute_result",
          "data": {
            "text/plain": [
              "str"
            ]
          },
          "metadata": {},
          "execution_count": 1
        }
      ]
    },
    {
      "cell_type": "code",
      "source": [
        "int(a)"
      ],
      "metadata": {
        "colab": {
          "base_uri": "https://localhost:8080/"
        },
        "id": "YYTWzlq1SanH",
        "outputId": "1cd7c437-eabd-4002-9ebe-705cda870b66"
      },
      "execution_count": null,
      "outputs": [
        {
          "output_type": "execute_result",
          "data": {
            "text/plain": [
              "2"
            ]
          },
          "metadata": {},
          "execution_count": 2
        }
      ]
    },
    {
      "cell_type": "code",
      "source": [
        "float(a)"
      ],
      "metadata": {
        "colab": {
          "base_uri": "https://localhost:8080/"
        },
        "id": "Wy1q_JMMSfTa",
        "outputId": "9d242d12-aed1-4faa-b753-4bdb8136d52f"
      },
      "execution_count": null,
      "outputs": [
        {
          "output_type": "execute_result",
          "data": {
            "text/plain": [
              "2.0"
            ]
          },
          "metadata": {},
          "execution_count": 4
        }
      ]
    },
    {
      "cell_type": "code",
      "source": [
        "a =\"ajay\"\n",
        "b =\"kumar\"\n",
        "c = a+b\n",
        "print(c)"
      ],
      "metadata": {
        "colab": {
          "base_uri": "https://localhost:8080/"
        },
        "id": "f5MOx_9TSuRh",
        "outputId": "ef0a5ac2-187c-4ad5-be7d-a59eeb32efbb"
      },
      "execution_count": null,
      "outputs": [
        {
          "output_type": "stream",
          "name": "stdout",
          "text": [
            "ajaykumar\n"
          ]
        }
      ]
    },
    {
      "cell_type": "code",
      "source": [
        "\"pw\" +\"skills\""
      ],
      "metadata": {
        "colab": {
          "base_uri": "https://localhost:8080/",
          "height": 36
        },
        "id": "XnULl-6lTOqe",
        "outputId": "622dbf29-956e-408a-d259-f5b4d5cbe614"
      },
      "execution_count": null,
      "outputs": [
        {
          "output_type": "execute_result",
          "data": {
            "text/plain": [
              "'pwskills'"
            ],
            "application/vnd.google.colaboratory.intrinsic+json": {
              "type": "string"
            }
          },
          "metadata": {},
          "execution_count": 7
        }
      ]
    },
    {
      "cell_type": "code",
      "source": [
        "num = 9\n",
        "if num % 2 == 0:\n",
        "  print(\"even\")\n",
        "else:\n",
        "  print(\"odd\")"
      ],
      "metadata": {
        "colab": {
          "base_uri": "https://localhost:8080/"
        },
        "id": "9KpedqdWYGMP",
        "outputId": "28491bc3-52f3-4995-b5f1-e5b11fbd4328"
      },
      "execution_count": null,
      "outputs": [
        {
          "output_type": "stream",
          "name": "stdout",
          "text": [
            "odd\n"
          ]
        }
      ]
    },
    {
      "cell_type": "code",
      "source": [
        "from os import GRND_RANDOM\n",
        "score = 90\n",
        "if score >=70:\n",
        "  print(GRND_RANDOM)"
      ],
      "metadata": {
        "id": "6Zbn0hUahIMb"
      },
      "execution_count": null,
      "outputs": []
    },
    {
      "cell_type": "code",
      "source": [
        "num_list =[1,2,3,4,5]\n",
        "print(len(num_list))"
      ],
      "metadata": {
        "colab": {
          "base_uri": "https://localhost:8080/"
        },
        "id": "OQ4oA6hwlsgQ",
        "outputId": "941de528-ff1e-4919-cd7d-d8f4cb7caf4f"
      },
      "execution_count": null,
      "outputs": [
        {
          "output_type": "stream",
          "name": "stdout",
          "text": [
            "5\n"
          ]
        }
      ]
    },
    {
      "cell_type": "code",
      "source": [
        "n = 7\n",
        "i = 1\n",
        "while i < n:\n",
        "  print(i)\n",
        "  i = i+1\n",
        "  if i ==3:\n",
        "    continue\n",
        "\n",
        "\n"
      ],
      "metadata": {
        "colab": {
          "base_uri": "https://localhost:8080/"
        },
        "id": "nZO_40_X22db",
        "outputId": "233f5c26-c141-4506-9ade-ab447984cd67"
      },
      "execution_count": null,
      "outputs": [
        {
          "output_type": "stream",
          "name": "stdout",
          "text": [
            "1\n",
            "2\n",
            "3\n",
            "4\n",
            "5\n",
            "6\n"
          ]
        }
      ]
    },
    {
      "cell_type": "code",
      "source": [
        "for i in \"shiksha_nagar\":\n",
        "  print(i)\n"
      ],
      "metadata": {
        "colab": {
          "base_uri": "https://localhost:8080/"
        },
        "id": "xqizz0do84N_",
        "outputId": "289b93e0-e050-433e-b511-3daea1407364"
      },
      "execution_count": null,
      "outputs": [
        {
          "output_type": "stream",
          "name": "stdout",
          "text": [
            "s\n",
            "h\n",
            "i\n",
            "k\n",
            "s\n",
            "h\n",
            "a\n",
            "_\n",
            "n\n",
            "a\n",
            "g\n",
            "a\n",
            "r\n"
          ]
        }
      ]
    },
    {
      "cell_type": "code",
      "source": [
        "for i in [\"shiksha_nagar\", \"pwskills\", \"ajay\", \"priya\"]:\n",
        "  print(i)"
      ],
      "metadata": {
        "colab": {
          "base_uri": "https://localhost:8080/"
        },
        "id": "80URiE0_9hNx",
        "outputId": "1d87d1db-2d73-456e-c6c2-d03d4206b3f4"
      },
      "execution_count": null,
      "outputs": [
        {
          "output_type": "stream",
          "name": "stdout",
          "text": [
            "shiksha_nagar\n",
            "pwskills\n",
            "ajay\n",
            "priya\n"
          ]
        }
      ]
    },
    {
      "cell_type": "code",
      "source": [
        "list(range(0,100,5))"
      ],
      "metadata": {
        "colab": {
          "base_uri": "https://localhost:8080/"
        },
        "id": "6XtwtfyKK7wE",
        "outputId": "f15644cf-ed1b-4818-929c-82f0f9aa72b4"
      },
      "execution_count": null,
      "outputs": [
        {
          "output_type": "execute_result",
          "data": {
            "text/plain": [
              "[0, 5, 10, 15, 20, 25, 30, 35, 40, 45, 50, 55, 60, 65, 70, 75, 80, 85, 90, 95]"
            ]
          },
          "metadata": {},
          "execution_count": 1
        }
      ]
    },
    {
      "cell_type": "code",
      "source": [
        "for i in range(3):\n",
        "  for j in range (i+1):\n",
        "    print(\" * \", end =\"\")\n",
        "    print()"
      ],
      "metadata": {
        "colab": {
          "base_uri": "https://localhost:8080/"
        },
        "id": "FZeyJ1nuxY7P",
        "outputId": "31bfd12f-0d83-4ee4-ae56-9f48abe13c8c"
      },
      "execution_count": null,
      "outputs": [
        {
          "output_type": "stream",
          "name": "stdout",
          "text": [
            " * \n",
            " * \n",
            " * \n",
            " * \n",
            " * \n",
            " * \n"
          ]
        }
      ]
    },
    {
      "cell_type": "code",
      "source": [
        "num_list =[1,2,3,4,5]\n",
        "print(len(num_list))"
      ],
      "metadata": {
        "colab": {
          "base_uri": "https://localhost:8080/"
        },
        "id": "iFOMRKWZ_Ldf",
        "outputId": "fa144b90-849d-41d2-801b-dd674fa5d401"
      },
      "execution_count": null,
      "outputs": [
        {
          "output_type": "stream",
          "name": "stdout",
          "text": [
            "5\n"
          ]
        }
      ]
    },
    {
      "cell_type": "code",
      "source": [
        "x = 5\n",
        "y = 2\n",
        "print(x**y)"
      ],
      "metadata": {
        "colab": {
          "base_uri": "https://localhost:8080/"
        },
        "id": "1jIQt2q1_2qH",
        "outputId": "141a695a-96d2-4482-b7cc-842db1716512"
      },
      "execution_count": null,
      "outputs": [
        {
          "output_type": "stream",
          "name": "stdout",
          "text": [
            "25\n"
          ]
        }
      ]
    },
    {
      "cell_type": "code",
      "source": [
        "text =\"python\"\n",
        "print(text[::-1])"
      ],
      "metadata": {
        "colab": {
          "base_uri": "https://localhost:8080/"
        },
        "id": "18DSn4uOA4Tp",
        "outputId": "df837da9-e1bf-448b-daa2-3765bdc8aadf"
      },
      "execution_count": null,
      "outputs": [
        {
          "output_type": "stream",
          "name": "stdout",
          "text": [
            "nohtyp\n"
          ]
        }
      ]
    },
    {
      "cell_type": "code",
      "source": [
        "my_truple =(1,2,3)\n",
        "my_truple[0] =10\n",
        "print(my_truple)"
      ],
      "metadata": {
        "colab": {
          "base_uri": "https://localhost:8080/",
          "height": 176
        },
        "id": "7dpcQ3qnBRL-",
        "outputId": "bf90bc4a-772d-4872-91ff-8f241a0357da"
      },
      "execution_count": null,
      "outputs": [
        {
          "output_type": "error",
          "ename": "TypeError",
          "evalue": "'tuple' object does not support item assignment",
          "traceback": [
            "\u001b[0;31m---------------------------------------------------------------------------\u001b[0m",
            "\u001b[0;31mTypeError\u001b[0m                                 Traceback (most recent call last)",
            "\u001b[0;32m/tmp/ipython-input-4155699976.py\u001b[0m in \u001b[0;36m<cell line: 0>\u001b[0;34m()\u001b[0m\n\u001b[1;32m      1\u001b[0m \u001b[0mmy_truple\u001b[0m \u001b[0;34m=\u001b[0m\u001b[0;34m(\u001b[0m\u001b[0;36m1\u001b[0m\u001b[0;34m,\u001b[0m\u001b[0;36m2\u001b[0m\u001b[0;34m,\u001b[0m\u001b[0;36m3\u001b[0m\u001b[0;34m)\u001b[0m\u001b[0;34m\u001b[0m\u001b[0;34m\u001b[0m\u001b[0m\n\u001b[0;32m----> 2\u001b[0;31m \u001b[0mmy_truple\u001b[0m\u001b[0;34m[\u001b[0m\u001b[0;36m0\u001b[0m\u001b[0;34m]\u001b[0m \u001b[0;34m=\u001b[0m\u001b[0;36m10\u001b[0m\u001b[0;34m\u001b[0m\u001b[0;34m\u001b[0m\u001b[0m\n\u001b[0m\u001b[1;32m      3\u001b[0m \u001b[0mprint\u001b[0m\u001b[0;34m(\u001b[0m\u001b[0mmy_truple\u001b[0m\u001b[0;34m)\u001b[0m\u001b[0;34m\u001b[0m\u001b[0;34m\u001b[0m\u001b[0m\n",
            "\u001b[0;31mTypeError\u001b[0m: 'tuple' object does not support item assignment"
          ]
        }
      ]
    },
    {
      "cell_type": "code",
      "source": [
        "a =5\n",
        "b =\"5\"\n",
        "print(a+int(b))"
      ],
      "metadata": {
        "colab": {
          "base_uri": "https://localhost:8080/"
        },
        "id": "GmnjUlGCBz2J",
        "outputId": "3cb5c142-dc0f-4aad-efe7-958cb2a83a45"
      },
      "execution_count": null,
      "outputs": [
        {
          "output_type": "stream",
          "name": "stdout",
          "text": [
            "10\n"
          ]
        }
      ]
    },
    {
      "cell_type": "code",
      "metadata": {
        "colab": {
          "base_uri": "https://localhost:8080/"
        },
        "id": "a58722cf",
        "outputId": "ffec15e7-ac7f-45d5-d9a3-22392fa2d5a2"
      },
      "source": [
        "numbers =[10,20,30,40]\n",
        "numbers.append (50)\n",
        "print(numbers)"
      ],
      "execution_count": null,
      "outputs": [
        {
          "output_type": "stream",
          "name": "stdout",
          "text": [
            "[10, 20, 30, 40, 50]\n"
          ]
        }
      ]
    },
    {
      "cell_type": "code",
      "metadata": {
        "colab": {
          "base_uri": "https://localhost:8080/",
          "height": 106
        },
        "id": "2a79193e",
        "outputId": "8e13d92b-30ff-4bae-e90f-cd4949d276e5"
      },
      "source": [
        "x =[1,2,3]\n",
        "x =y y.append(4)\n",
        "print(x)"
      ],
      "execution_count": null,
      "outputs": [
        {
          "output_type": "error",
          "ename": "SyntaxError",
          "evalue": "invalid syntax (ipython-input-617487612.py, line 2)",
          "traceback": [
            "\u001b[0;36m  File \u001b[0;32m\"/tmp/ipython-input-617487612.py\"\u001b[0;36m, line \u001b[0;32m2\u001b[0m\n\u001b[0;31m    x =y y.append(4)\u001b[0m\n\u001b[0m         ^\u001b[0m\n\u001b[0;31mSyntaxError\u001b[0m\u001b[0;31m:\u001b[0m invalid syntax\n"
          ]
        }
      ]
    },
    {
      "cell_type": "code",
      "metadata": {
        "colab": {
          "base_uri": "https://localhost:8080/"
        },
        "id": "2a79199b",
        "outputId": "7a16e855-fdc6-4bfe-e92b-15c00fa6c10e"
      },
      "source": [
        "a =[1,2,3]\n",
        "b =a.copy()\n",
        "b.append(4)\n",
        "print(a,b)"
      ],
      "execution_count": null,
      "outputs": [
        {
          "output_type": "stream",
          "name": "stdout",
          "text": [
            "[1, 2, 3] [1, 2, 3, 4]\n"
          ]
        }
      ]
    },
    {
      "cell_type": "code",
      "source": [
        "def add(a,b=5):\n",
        "  return a+b\n",
        "print(add(3))"
      ],
      "metadata": {
        "colab": {
          "base_uri": "https://localhost:8080/"
        },
        "id": "SH5Bdrl0D1LW",
        "outputId": "93ad9cf1-41aa-4a6e-d31a-e963c7ba56a2"
      },
      "execution_count": null,
      "outputs": [
        {
          "output_type": "stream",
          "name": "stdout",
          "text": [
            "8\n"
          ]
        }
      ]
    },
    {
      "cell_type": "code",
      "source": [
        "numbers ={1,2,3,3,2,1}\n",
        "print(len(numbers))"
      ],
      "metadata": {
        "colab": {
          "base_uri": "https://localhost:8080/"
        },
        "id": "r5diVZOOEVrw",
        "outputId": "9497b89d-3bfc-4500-a2f2-fe59ad1cd398"
      },
      "execution_count": null,
      "outputs": [
        {
          "output_type": "stream",
          "name": "stdout",
          "text": [
            "3\n"
          ]
        }
      ]
    },
    {
      "cell_type": "code",
      "metadata": {
        "colab": {
          "base_uri": "https://localhost:8080/"
        },
        "id": "85962b2d",
        "outputId": "f6d560e9-3cda-492f-9853-8450baa50a39"
      },
      "source": [
        "numbers ={1,2,3,3,2,1}\n",
        "print(len(numbers))"
      ],
      "execution_count": null,
      "outputs": [
        {
          "output_type": "stream",
          "name": "stdout",
          "text": [
            "3\n"
          ]
        }
      ]
    },
    {
      "cell_type": "code",
      "source": [
        "x =[1,2,3,4,5]\n",
        "y =x[1:4]\n",
        "print(y)"
      ],
      "metadata": {
        "colab": {
          "base_uri": "https://localhost:8080/"
        },
        "id": "zowJvIaIEu1M",
        "outputId": "79542a5c-2340-4e90-91e1-42bef095be30"
      },
      "execution_count": null,
      "outputs": [
        {
          "output_type": "stream",
          "name": "stdout",
          "text": [
            "[2, 3, 4]\n"
          ]
        }
      ]
    },
    {
      "cell_type": "code",
      "source": [
        "#use case of set\n",
        "a ={\"banna\" ,\"apple\",\"apple\"}\n",
        "a"
      ],
      "metadata": {
        "colab": {
          "base_uri": "https://localhost:8080/"
        },
        "id": "4Scrfrr8aVsQ",
        "outputId": "aaebf514-2329-433f-b676-2e5b3cd96d3f"
      },
      "execution_count": null,
      "outputs": [
        {
          "output_type": "execute_result",
          "data": {
            "text/plain": [
              "{'apple', 'banna'}"
            ]
          },
          "metadata": {},
          "execution_count": 17
        }
      ]
    },
    {
      "cell_type": "markdown",
      "source": [],
      "metadata": {
        "id": "RBy_7Tybnaix"
      }
    },
    {
      "cell_type": "markdown",
      "source": [
        "In Python, both functions and methods are blocks of reusable code. The key difference lies in how they are defined and called:\n",
        "\n",
        "Functions: Are defined independently and can be called directly by their name. They don't belong to any specific object or class.\n",
        "Methods: Are defined within a class and are associated with objects of that class. They are called on an object using dot notation (e.g., object.method()). Methods can access and modify the object's attributes.\n"
      ],
      "metadata": {
        "id": "KR_ofXxPnd4W"
      }
    },
    {
      "cell_type": "markdown",
      "source": [
        "arameters are the names listed in the function definition. They are placeholders for the values you will pass into the function when you call it.\n",
        "\n",
        "Arguments are the actual values you pass into the function when you call it. These values are assigned to the parameters defined in the function.\n",
        "\n",
        "Here's a simple example:\n",
        "\n",
        "def greet(name):\n",
        "  # 'name' is a parameter\n",
        "  print(f\"Hello, {name}!\")\n",
        "\n",
        "greet(\"Alice\")  # \"Alice\" is an argument\n",
        "In this example, name is the parameter in the greet function definition. When we call greet(\"Alice\"), the string \"Alice\" is the argument that gets passed to the function and assigned to the name parameter.\n",
        "\n",
        "You can have multiple parameters and arguments, and they are matched up in order by default. You can also use keyword arguments to pass arguments by name, which can make your code more readable and allows you to pass arguments in a different order.\n",
        "\n",
        "Does that explanation make sense? Would you like to see more examples or explore different types of arguments?\n",
        "\n"
      ],
      "metadata": {
        "id": "kHEU_BrTn2Xd"
      }
    }
  ]
}
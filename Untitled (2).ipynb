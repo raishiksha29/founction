{
 "cells": [
  {
   "cell_type": "code",
   "execution_count": null,
   "id": "c70caafd-e022-4e94-b3c2-23252ffb0a7e",
   "metadata": {},
   "outputs": [],
   "source": [
    "# PYTHON IS OPPS ASSIGMRNT QUESTIONS "
   ]
  },
  {
   "cell_type": "code",
   "execution_count": null,
   "id": "3a540832-7e23-456a-9cfe-783a7464d55d",
   "metadata": {},
   "outputs": [],
   "source": [
    "Q.1 What is Object-Oriented Programming (OOP) ?\n",
    "\n",
    "Explanation -\n",
    "              **OOPS**Object-Oriented Programming (OOP) is a programming paradigm that organizes software design around objects rather than functions and logic.\n",
    "                An object is a self-contained unit that bundles data (attributes) and the procedures that operate on that data (methods). \n",
    "                This approach aims to model real-world entities, making code more modular, reusable, and easier to manage.\n",
    "    --------------------------------------------------------------------------------------------------------------------------------------------------------------------------\n",
    "Example-  \n",
    "\n",
    "    # class (blueprint)\n",
    "      class bike:\n",
    "         def_inti_(self ,brand , model):\n",
    "            self. brand = brand  #attribute\n",
    "            self.model = model\n",
    "\n",
    "\n",
    "          def display_info(self):  # Method \n",
    "             return f\"bike: {self.brand} {self.model}\"\n",
    "\n",
    "         # obeject ( instance of class )\n",
    "           bike1 = bike (\"TCS\" , \"MODEL D\")\n",
    "\n",
    "\n",
    "    \n",
    "        \n",
    "\n",
    "    "
   ]
  }
 ],
 "metadata": {
  "kernelspec": {
   "display_name": "Python 3 (ipykernel)",
   "language": "python",
   "name": "python3"
  },
  "language_info": {
   "codemirror_mode": {
    "name": "ipython",
    "version": 3
   },
   "file_extension": ".py",
   "mimetype": "text/x-python",
   "name": "python",
   "nbconvert_exporter": "python",
   "pygments_lexer": "ipython3",
   "version": "3.13.5"
  }
 },
 "nbformat": 4,
 "nbformat_minor": 5
}

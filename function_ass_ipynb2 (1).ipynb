{
  "nbformat": 4,
  "nbformat_minor": 0,
  "metadata": {
    "colab": {
      "provenance": []
    },
    "kernelspec": {
      "name": "python3",
      "display_name": "Python 3"
    },
    "language_info": {
      "name": "python"
    }
  },
  "cells": [
    {
      "cell_type": "markdown",
      "source": [
        "# **Function Assengment**\n",
        "\n",
        "\n",
        "## Q.1  What are data structures, and why are they important?\n",
        "\n",
        "Ans:- data structures aren't a programming language or an application, but rather a set of rules and relationships for arranging data.\n",
        "# data structure are importace-**\n",
        "                  Data structures are crucial because they directly impact the efficiency, performance, and scalability of a program. Choosing the right data structure can be the difference between a program that runs instantly and one that takes hours to complete.\n",
        "\n",
        "# Q.2 Explain the difference between mutable and immutable data types with examples ?\n",
        "\n",
        "Ans:-\n",
        "     **Mutable data type -** Mutable data types are objects whose value can be changed in place after creation. This means you can add, remove, or change elements without creating a new object in memory.\n",
        "example-\n"
      ],
      "metadata": {
        "id": "LhkcqYVCSxTW"
      }
    },
    {
      "cell_type": "markdown",
      "source": [
        "Immutable data type-**\n",
        "            Immutable data types are objects whose value cannot be changed after they are created."
      ],
      "metadata": {
        "id": "uJnBnIj7UB3_"
      }
    },
    {
      "cell_type": "code",
      "source": [
        "my_string = \"hello\"\n",
        "new_string = my_string + \" world\"\n"
      ],
      "metadata": {
        "id": "K3d0ZmMsUPMI"
      },
      "execution_count": null,
      "outputs": []
    },
    {
      "cell_type": "code",
      "source": [
        " my_list = [1, 2, 3]\n",
        " print(my_list)"
      ],
      "metadata": {
        "colab": {
          "base_uri": "https://localhost:8080/"
        },
        "id": "6gbPhoEsTyfl",
        "outputId": "56f03b3d-535b-48b3-f236-8c4483d61887"
      },
      "execution_count": null,
      "outputs": [
        {
          "output_type": "stream",
          "name": "stdout",
          "text": [
            "[1, 2, 3]\n"
          ]
        }
      ]
    },
    {
      "cell_type": "markdown",
      "source": [
        "## Q.3. What are the main differences between lists and tuples in Python?\n",
        "\n",
        "Ans-   \n",
        "      #lists:-\n",
        "              1.mutability is mutable\n",
        "              2.syntax -[]\n",
        "              3.methods- append() , remove()\n",
        "      #Truples:-\n",
        "              1. mutability is immutable\n",
        "              2.syntax -()\n",
        "              3.methods- count() , index()\n"
      ],
      "metadata": {
        "id": "ccelPD5lUc0q"
      }
    },
    {
      "cell_type": "code",
      "source": [
        "my_list = [1, 2, 3]\n",
        "my_list.append(4)  # Modifying the list\n",
        "print(my_list)"
      ],
      "metadata": {
        "colab": {
          "base_uri": "https://localhost:8080/"
        },
        "id": "6JWzw64JUbpC",
        "outputId": "ed490200-d7b8-4f29-e55b-635b1bbb3db6"
      },
      "execution_count": null,
      "outputs": [
        {
          "output_type": "stream",
          "name": "stdout",
          "text": [
            "[1, 2, 3, 4]\n"
          ]
        }
      ]
    },
    {
      "cell_type": "code",
      "metadata": {
        "colab": {
          "base_uri": "https://localhost:8080/"
        },
        "id": "ae1de40a",
        "outputId": "2c8dc3f5-c0d8-4408-cfcc-a256743c5335"
      },
      "source": [
        "my_tuple = (1, 2, 3)\n",
        "# The following line will raise an error because tuples are immutable:\n",
        "# my_tuple[0] = 5\n",
        "print(my_tuple)"
      ],
      "execution_count": null,
      "outputs": [
        {
          "output_type": "stream",
          "name": "stdout",
          "text": [
            "(1, 2, 3)\n"
          ]
        }
      ]
    },
    {
      "cell_type": "markdown",
      "source": [
        "# Q.4. Describe how dictionaries store data ?\n",
        "\n",
        "Ans:-\n",
        "     # Python dictionaries are implemented using a hash table (or hash map). This is an underlying data structure that allows for very fast lookups.\n",
        "           \n",
        "              1.Hashing the Key\n",
        "              2.Storing the Pair\n",
        "              3.Retrieving Data"
      ],
      "metadata": {
        "id": "mmWNj33SV3v7"
      }
    },
    {
      "cell_type": "code",
      "metadata": {
        "colab": {
          "base_uri": "https://localhost:8080/"
        },
        "id": "856f9e37",
        "outputId": "e9028c8c-e30f-4edd-bd93-499babd3e769"
      },
      "source": [
        "my_dict = {\n",
        "    'name': 'shiksha',\n",
        "    'age': 26,\n",
        "    'city': 'bhopal'\n",
        "}\n",
        "print(my_dict)"
      ],
      "execution_count": null,
      "outputs": [
        {
          "output_type": "stream",
          "name": "stdout",
          "text": [
            "{'name': 'shiksha', 'age': 26, 'city': 'bhopal'}\n"
          ]
        }
      ]
    },
    {
      "cell_type": "markdown",
      "source": [
        "# Q.5. Why might you use a set instead of a list in Python ?\n",
        "Ans:-\n",
        "        # You might use a set instead of a list in Python for a few key reasons, primarily when you need to store a collection of unique items and require fast look-up times. Sets are also useful when the order of elements doesn't matter.bold text"
      ],
      "metadata": {
        "id": "RQoZ0JQiWXbo"
      }
    },
    {
      "cell_type": "code",
      "metadata": {
        "colab": {
          "base_uri": "https://localhost:8080/"
        },
        "id": "c7499b81",
        "outputId": "491ec701-54a3-4b7b-9e38-9c5a7bb2a928"
      },
      "source": [
        "viewed_products_list = ['milk', 'bread', 'milk', 'cheese', 'bread', 'cheese']\n",
        "print (viewed_products_list)"
      ],
      "execution_count": null,
      "outputs": [
        {
          "output_type": "stream",
          "name": "stdout",
          "text": [
            "['milk', 'bread', 'milk', 'cheese', 'bread', 'cheese']\n"
          ]
        }
      ]
    },
    {
      "cell_type": "markdown",
      "source": [
        "# Q.6. What is a string in Python, and how is it different from a list?\n",
        "\n",
        "Ans:-\n",
        "     # string in Python - A string in Python is a sequence of characters, used to represent text. You create a string by enclosing a sequence of characters in single, double, or triple quotes.\n",
        " example -"
      ],
      "metadata": {
        "id": "-c9qlUlKXPfn"
      }
    },
    {
      "cell_type": "code",
      "metadata": {
        "colab": {
          "base_uri": "https://localhost:8080/"
        },
        "id": "8fad6fb3",
        "outputId": "ae89f930-e967-40b2-9558-1b99e6d6ccb1"
      },
      "source": [
        "str = ( 'pwskills!' )\n",
        "print(str)"
      ],
      "execution_count": null,
      "outputs": [
        {
          "output_type": "stream",
          "name": "stdout",
          "text": [
            "pwskills!\n"
          ]
        }
      ]
    },
    {
      "cell_type": "markdown",
      "source": [
        "                    #defferent string and list -\n",
        "\n",
        "           # feature             string             list\n",
        "            mutability          immutable          mutable\n",
        "            content              (tex)              int,float"
      ],
      "metadata": {
        "id": "ArGyJT7kXrpi"
      }
    },
    {
      "cell_type": "code",
      "metadata": {
        "colab": {
          "base_uri": "https://localhost:8080/"
        },
        "id": "3b17d5fc",
        "outputId": "a0c88ea5-5d14-48c9-80f0-24a1240c5ba6"
      },
      "source": [
        "my_string =\"hii\"\n",
        "print(my_string)\n"
      ],
      "execution_count": null,
      "outputs": [
        {
          "output_type": "stream",
          "name": "stdout",
          "text": [
            "hii\n"
          ]
        }
      ]
    },
    {
      "cell_type": "code",
      "source": [
        "my_tuple = (10, 20, 30)\n",
        "print(my_tuple)"
      ],
      "metadata": {
        "colab": {
          "base_uri": "https://localhost:8080/"
        },
        "id": "qEhSmtoyYUQ8",
        "outputId": "35a06eb3-a081-4f9a-b76d-98c9dff349d7"
      },
      "execution_count": null,
      "outputs": [
        {
          "output_type": "stream",
          "name": "stdout",
          "text": [
            "['1', 'apple', 'bag']\n"
          ]
        }
      ]
    },
    {
      "cell_type": "markdown",
      "source": [
        "## Q.7 How do tuples ensure data integrity in Python ?\n",
        "\n",
        "Ans:-  \n",
        "      Tuples ensure data integrity in Python because they are immutable. This means that once a tuple is created, its elements cannot be changed, added, or removed.The immutability of tuples prevents accidental modification of data."
      ],
      "metadata": {
        "id": "j6n1wD9FYx7q"
      }
    },
    {
      "cell_type": "code",
      "source": [
        "my_bag = [\"apple\", \"brinjal\", \"gold\"]\n",
        "print(my_bag)"
      ],
      "metadata": {
        "colab": {
          "base_uri": "https://localhost:8080/"
        },
        "id": "Op3BuY8LYxYC",
        "outputId": "30c76372-de1d-46fd-9d97-f609c028f21d"
      },
      "execution_count": null,
      "outputs": [
        {
          "output_type": "stream",
          "name": "stdout",
          "text": [
            "['apple', 'brinjal', 'gold']\n"
          ]
        }
      ]
    },
    {
      "cell_type": "markdown",
      "source": [
        "### Q.8 What is a hash table, and how does it relate to dictionaries in Python ?\n",
        "\n",
        "Ans:-  \n",
        "       #A hash table, also known as a hash map, is a data structure that stores data in key-value pairs. It uses a hash function to compute an index into an array of buckets or slots, from which the desired value can be found. This allows for extremely fast lookups, insertions, and deletions.\n",
        "             \n",
        "    #Relation to Dictionaries in Python\n",
        "          -Python's dictionaries are implemented as hash tables. This is a fundamental concept that explains why dictionaries are so efficient for data retrieval.\n",
        "\n",
        "                  @ Key-Value Storage:      \n",
        "                  @ Hashing of Keys:\n",
        "                  @ Fast Operations:\n",
        "                  @ Immutability of Keys:\n"
      ],
      "metadata": {
        "id": "EJ8Wgk1KdnRh"
      }
    },
    {
      "cell_type": "code",
      "source": [
        "my_dict = {\n",
        "    'apple': 1,\n",
        "    'banana': 2,\n",
        "    'cherry': 3\n",
        "}"
      ],
      "metadata": {
        "id": "bwC29gdFdmha"
      },
      "execution_count": null,
      "outputs": []
    },
    {
      "cell_type": "code",
      "metadata": {
        "colab": {
          "base_uri": "https://localhost:8080/"
        },
        "id": "9de64070",
        "outputId": "096ebf17-1617-446a-a609-d1e7b9fb57bc"
      },
      "source": [
        "my_dict = {\n",
        "    'apple': 1,\n",
        "    'banana': 2,\n",
        "    'cherry': 3\n",
        "}\n",
        "\n",
        "# Accessing values using keys\n",
        "print(my_dict['apple'])\n",
        "print(my_dict['banana'])"
      ],
      "execution_count": null,
      "outputs": [
        {
          "output_type": "stream",
          "name": "stdout",
          "text": [
            "1\n",
            "2\n"
          ]
        }
      ]
    },
    {
      "cell_type": "markdown",
      "source": [
        "# Q.9 Can lists contain different data types in Python ?\n",
        "\n",
        " Ans:- This is because lists are designed to be flexible and can store a collection of heterogeneous items, unlike arrays in some other languages which are restricted to a single data type."
      ],
      "metadata": {
        "id": "mjw9lb7-8Api"
      }
    },
    {
      "cell_type": "code",
      "source": [
        "my_list = [42, \"hello\", 3.14, True, ['a', 'b', 'c']]\n"
      ],
      "metadata": {
        "id": "CiLofWGy8AO_"
      },
      "execution_count": null,
      "outputs": []
    },
    {
      "cell_type": "code",
      "metadata": {
        "colab": {
          "base_uri": "https://localhost:8080/"
        },
        "id": "3143c7ff",
        "outputId": "c6762199-ceee-429c-88fe-721a3213c277"
      },
      "source": [
        "my_list = [42, \"hello\", 3.14, True, ['a', 'b', 'c']]\n",
        "\n",
        "# Accessing elements by index\n",
        "print(my_list[0])  # Accessing the first element\n",
        "print(my_list[2])  # Accessing the third element\n"
      ],
      "execution_count": null,
      "outputs": [
        {
          "output_type": "stream",
          "name": "stdout",
          "text": [
            "42\n",
            "3.14\n"
          ]
        }
      ]
    },
    {
      "cell_type": "markdown",
      "source": [
        "# Q.10  Explain why strings are immutable in Python ?\n",
        "\n",
        "Ans:- This is because lists are designed to be flexible and can store a collection of heterogeneous items, unlike arrays in some other languages which are restricted to a single data type.\n",
        " #why strings are immutable -\n",
        "   \n",
        "    1.Memory Efficiency and Performance\n",
        "    2.Thread Safety\n",
        "    3.Use as Dictionary Keys and Set Elements\n",
        "    4.Security and Reliability\n"
      ],
      "metadata": {
        "id": "PljeJ3aC8b54"
      }
    },
    {
      "cell_type": "code",
      "metadata": {
        "colab": {
          "base_uri": "https://localhost:8080/"
        },
        "id": "8f2cf358",
        "outputId": "e513a932-c038-4bf9-c78b-4a7115093638"
      },
      "source": [
        "my_string = \"hello\"\n",
        "print(id(my_string))"
      ],
      "execution_count": null,
      "outputs": [
        {
          "output_type": "stream",
          "name": "stdout",
          "text": [
            "139321942835312\n"
          ]
        }
      ]
    },
    {
      "cell_type": "markdown",
      "source": [
        "# Q.11  What advantages do dictionaries offer over lists for certain tasks ?\n",
        "\n",
        "Ans:-  Dictionaries offer significant advantages over lists for certain tasks, primarily in terms of efficiency and readability. Lists store data as an ordered sequence of elements, while dictionaries store data as unordered key-value pairs.\n",
        "\n"
      ],
      "metadata": {
        "id": "aNg0FfVW-Y-l"
      }
    },
    {
      "cell_type": "markdown",
      "source": [
        "# Q.12 Describe a scenario where using a tuple would be preferable over a list ?\n",
        "\n",
        "Ans:- Using a tuple is preferable to a list when you have a collection of items that should not change. Tuples are immutable, meaning their elements cannot be modified, added, or removed after creation. Lists, being mutable, are designed for collections that will change."
      ],
      "metadata": {
        "id": "764UsHo0223a"
      }
    },
    {
      "cell_type": "markdown",
      "source": [
        "## [Q.13  How do sets handle duplicate values in Python ?](https://)\n",
        "\n",
        "Ans:- Sets in Python handle duplicate values by automatically discarding them. Because a set is an unordered collection of unique elements, it will only store a single instance of each value, no matter how many times you try to add it.\n",
        "\n",
        "    # Key Characteristics of Sets -\n",
        "     Uniqueness\n",
        "     No Order\n",
        "     Mutability\n"
      ],
      "metadata": {
        "id": "nzoo-U1l3k9m"
      }
    },
    {
      "cell_type": "code",
      "source": [
        "# A list with duplicate values\n",
        "my_list = [\"apple\",\"apple\",\"brinjal\", \"carrot\",\"brinjal\"]\n",
        "\n",
        "# Convert the list to a set\n",
        "my_set = set(my_list)\n",
        "\n",
        "print(my_set)"
      ],
      "metadata": {
        "colab": {
          "base_uri": "https://localhost:8080/"
        },
        "id": "UF9PiyWd3iuE",
        "outputId": "871f1d15-56c2-4f4c-df8a-9415ac0a738f"
      },
      "execution_count": 2,
      "outputs": [
        {
          "output_type": "stream",
          "name": "stdout",
          "text": [
            "{'apple', 'carrot', 'brinjal'}\n"
          ]
        }
      ]
    },
    {
      "cell_type": "markdown",
      "source": [
        "## Q.14 How does the “in” keyword work differently for lists and dictionaries ?\n",
        "\n",
        "Ans:-The \"in\" keyword works differently for lists and dictionaries based on how they store and access data. For lists, \"in\" checks for the presence of a value, whereas for dictionaries, it checks for the presence of a key.\n",
        "\n"
      ],
      "metadata": {
        "id": "dHWysMpJ3jQ_"
      }
    },
    {
      "cell_type": "code",
      "source": [
        "fruits = ['apple', 'banana', 'orange']\n",
        "\n",
        "print('apple' in fruits)\n",
        "print('grape' in fruits)\n",
        "\n"
      ],
      "metadata": {
        "colab": {
          "base_uri": "https://localhost:8080/"
        },
        "id": "fH-3E5kR5MWc",
        "outputId": "f2b04589-24fc-47cf-8393-70f00a07779c"
      },
      "execution_count": 5,
      "outputs": [
        {
          "output_type": "stream",
          "name": "stdout",
          "text": [
            "True\n",
            "False\n"
          ]
        }
      ]
    },
    {
      "cell_type": "markdown",
      "source": [
        "# Q.15  Can you modify the elements of a tuple? Explain why or why not ?\n",
        "\n",
        "Ans:- No, you can't modify the elements of a tuple. Tuples are immutable, which means their content cannot be changed after they are created.\n",
        "\n",
        "    # Why are tuples immutable-\n",
        "     1. Data Integrity\n",
        "     2. Performance\n",
        "     3. Dictionary Keys"
      ],
      "metadata": {
        "id": "1hZJ2eMT6otO"
      }
    },
    {
      "cell_type": "code",
      "source": [
        "my_tuple = (1, 2, [3, 4])\n",
        "my_tuple[2].append(5)\n",
        "print(my_tuple)"
      ],
      "metadata": {
        "colab": {
          "base_uri": "https://localhost:8080/"
        },
        "id": "rtehFCT46oUP",
        "outputId": "eb55a4de-903c-4f6c-cb09-29854e8d59cd"
      },
      "execution_count": 7,
      "outputs": [
        {
          "output_type": "stream",
          "name": "stdout",
          "text": [
            "(1, 2, [3, 4, 5])\n"
          ]
        }
      ]
    },
    {
      "cell_type": "markdown",
      "source": [
        "# Q.16  What is a nested dictionary, and give an example of its use case ?\n",
        "\n",
        "Ans:- A nested dictionary is a dictionary where the values are themselves dictionaries. This structure allows you to organize data in a hierarchical way, much like a folder system on a computer"
      ],
      "metadata": {
        "id": "DZLJGIO68XFt"
      }
    },
    {
      "cell_type": "code",
      "metadata": {
        "colab": {
          "base_uri": "https://localhost:8080/"
        },
        "id": "504d5bde",
        "outputId": "ea462311-2276-4c29-d60b-1c0e82c5a7a7"
      },
      "source": [
        "students = {\n",
        "    'student_1': {\n",
        "        'name': 'nikita',\n",
        "        'age': 15,\n",
        "        'grades': {\n",
        "            'math': 95,\n",
        "            'science': 88,\n",
        "            'history': 92\n",
        "        },\n",
        "        'attendance': 'present'\n",
        "    },\n",
        "    'student_2': {\n",
        "        'name': 'Bob',\n",
        "        'age': 16,\n",
        "        'grades': {\n",
        "            'math': 85,\n",
        "            'science': 91,\n",
        "            'history': 78\n",
        "        },\n",
        "        'attendance': 'absent'\n",
        "    }\n",
        "}\n",
        "\n",
        "print(students['student_1']['grades']['math'])\n"
      ],
      "execution_count": 13,
      "outputs": [
        {
          "output_type": "stream",
          "name": "stdout",
          "text": [
            "95\n"
          ]
        }
      ]
    },
    {
      "cell_type": "markdown",
      "source": [
        "Q.17 Describe the time complexity of accessing elements in a dictionary ?\n",
        "\n",
        "Ans:- The time complexity of accessing elements in a dictionary is, on average, O(1) (constant time). This means the time it takes to retrieve a value by its key does not significantly change as the dictionary grows.\n",
        "\n",
        "    #Lists are Preferred-\n",
        "     1. Ordered Data\n",
        "     2.Simple Collections\n"
      ],
      "metadata": {
        "id": "9yaPe5FR9sTq"
      }
    },
    {
      "cell_type": "code",
      "source": [
        "monthly_sales = [5000, 5200, 5100, 5500, 5800, 6000, 6200, 6100, 5900, 5700, 5400, 6500]\n",
        "\n",
        "# Accessing the sales for the third month (index 2)\n",
        "print(monthly_sales[2])"
      ],
      "metadata": {
        "colab": {
          "base_uri": "https://localhost:8080/"
        },
        "id": "egzU48479ri-",
        "outputId": "bac2f6d1-3713-4555-e962-a0c87a3dfde6"
      },
      "execution_count": 14,
      "outputs": [
        {
          "output_type": "stream",
          "name": "stdout",
          "text": [
            "5100\n"
          ]
        }
      ]
    },
    {
      "cell_type": "markdown",
      "source": [
        " Q.19  Why are dictionaries considered unordered, and how does that affect data retrieval ?\n",
        "\n",
        "Ans:- Dictionaries are considered unordered because they do not maintain a specific, predictable order of elements based on insertion or any other inherent property. Instead, their internal structure, a hash table, is optimized for speed, not order.\n",
        "\n",
        "    #Nature Affects Data Retrieval:-\n",
        "    1.No Indexing\n",
        "    2.Performance is Key\n",
        "    3.Iteration *Order*"
      ],
      "metadata": {
        "id": "FsVgnGPVGupU"
      }
    },
    {
      "cell_type": "markdown",
      "source": [
        "Q.20 Explain the difference between a list and a dictionary in terms of data retrieval.\n",
        "\n",
        "Ans:- The fundamental difference between lists and dictionaries in data retrieval is that lists are accessed by their numerical index, while dictionaries are accessed by their keys. This distinction directly impacts their performance and use cases.**bold text**"
      ],
      "metadata": {
        "id": "7lsnXnGZHtO7"
      }
    },
    {
      "cell_type": "code",
      "metadata": {
        "colab": {
          "base_uri": "https://localhost:8080/"
        },
        "id": "2cc7aa00",
        "outputId": "394e5bbd-57ba-4504-cf1b-15e9106eebe5"
      },
      "source": [
        "fruits = ['apple', 'banana', 'cherry']\n",
        "print(fruits)"
      ],
      "execution_count": 15,
      "outputs": [
        {
          "output_type": "stream",
          "name": "stdout",
          "text": [
            "['apple', 'banana', 'cherry']\n"
          ]
        }
      ]
    }
  ]
}
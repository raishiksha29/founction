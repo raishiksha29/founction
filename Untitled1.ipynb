{
  "nbformat": 4,
  "nbformat_minor": 0,
  "metadata": {
    "colab": {
      "provenance": []
    },
    "kernelspec": {
      "name": "python3",
      "display_name": "Python 3"
    },
    "language_info": {
      "name": "python"
    }
  },
  "cells": [
    {
      "cell_type": "code",
      "execution_count": null,
      "metadata": {
        "id": "WPVTj_ZzSuuQ"
      },
      "outputs": [],
      "source": []
    },
    {
      "cell_type": "markdown",
      "source": [
        "Function Assengment\n",
        "\n",
        "Q.1  What are data structures, and why are they important?\n",
        "\n",
        "Ans:- data structures aren't a programming language or an application, but rather a set of rules and relationships for arranging data.\n",
        "# data structure are importace-**\n",
        "                  Data structures are crucial because they directly impact the efficiency, performance, and scalability of a program. Choosing the right data structure can be the difference between a program that runs instantly and one that takes hours to complete.\n",
        "\n",
        "Q.2 2. Explain the difference between mutable and immutable data types with examples ?\n",
        "\n",
        "Ans:-**Mutable data type -** Mutable data types are objects whose value can be changed in place after creation. This means you can add, remove, or change elements without creating a new object in memory.\n",
        "example-\n"
      ],
      "metadata": {
        "id": "LhkcqYVCSxTW"
      }
    },
    {
      "cell_type": "markdown",
      "source": [
        "# Immutable data type-**\n",
        "            Immutable data types are objects whose value cannot be changed after they are created."
      ],
      "metadata": {
        "id": "uJnBnIj7UB3_"
      }
    },
    {
      "cell_type": "code",
      "source": [
        "my_string = \"hello\"\n",
        "new_string = my_string + \" world\"\n",
        ""
      ],
      "metadata": {
        "id": "K3d0ZmMsUPMI"
      },
      "execution_count": 3,
      "outputs": []
    },
    {
      "cell_type": "code",
      "source": [
        " my_list = [1, 2, 3]\n",
        " print(my_list)"
      ],
      "metadata": {
        "colab": {
          "base_uri": "https://localhost:8080/"
        },
        "id": "6gbPhoEsTyfl",
        "outputId": "56f03b3d-535b-48b3-f236-8c4483d61887"
      },
      "execution_count": 2,
      "outputs": [
        {
          "output_type": "stream",
          "name": "stdout",
          "text": [
            "[1, 2, 3]\n"
          ]
        }
      ]
    },
    {
      "cell_type": "markdown",
      "source": [
        "3. What are the main differences between lists and tuples in Python?\n",
        "\n",
        "Ans-   \n",
        "      #lists:-\n",
        "              1.mutability is mutable\n",
        "              2.syntax -[]\n",
        "              3.methods- append() , remove()\n",
        "      #Truples:-\n",
        "              1. mutability is immutable\n",
        "              2.syntax -()\n",
        "              3.methods- count() , index()\n"
      ],
      "metadata": {
        "id": "ccelPD5lUc0q"
      }
    },
    {
      "cell_type": "code",
      "source": [
        "my_list = [1, 2, 3]\n",
        "my_list.append(4)  # Modifying the list\n",
        "print(my_list)"
      ],
      "metadata": {
        "colab": {
          "base_uri": "https://localhost:8080/"
        },
        "id": "6JWzw64JUbpC",
        "outputId": "ed490200-d7b8-4f29-e55b-635b1bbb3db6"
      },
      "execution_count": 4,
      "outputs": [
        {
          "output_type": "stream",
          "name": "stdout",
          "text": [
            "[1, 2, 3, 4]\n"
          ]
        }
      ]
    },
    {
      "cell_type": "code",
      "source": [],
      "metadata": {
        "id": "2yk17YJtVmJ0"
      },
      "execution_count": null,
      "outputs": []
    },
    {
      "cell_type": "code",
      "metadata": {
        "colab": {
          "base_uri": "https://localhost:8080/"
        },
        "id": "ae1de40a",
        "outputId": "2c8dc3f5-c0d8-4408-cfcc-a256743c5335"
      },
      "source": [
        "my_tuple = (1, 2, 3)\n",
        "# The following line will raise an error because tuples are immutable:\n",
        "# my_tuple[0] = 5\n",
        "print(my_tuple)"
      ],
      "execution_count": 5,
      "outputs": [
        {
          "output_type": "stream",
          "name": "stdout",
          "text": [
            "(1, 2, 3)\n"
          ]
        }
      ]
    },
    {
      "cell_type": "markdown",
      "source": [
        "4. Describe how dictionaries store data ?\n",
        "\n",
        "Ans:-\n",
        "     # Python dictionaries are implemented using a hash table (or hash map). This is an underlying data structure that allows for very fast lookups.\n",
        "           1.Hashing the Key\n",
        "           2.Storing the Pair\n",
        "           3.Retrieving Data"
      ],
      "metadata": {
        "id": "mmWNj33SV3v7"
      }
    },
    {
      "cell_type": "code",
      "source": [],
      "metadata": {
        "id": "lQDgd4u4V3YO"
      },
      "execution_count": null,
      "outputs": []
    },
    {
      "cell_type": "code",
      "metadata": {
        "colab": {
          "base_uri": "https://localhost:8080/"
        },
        "id": "856f9e37",
        "outputId": "e9028c8c-e30f-4edd-bd93-499babd3e769"
      },
      "source": [
        "my_dict = {\n",
        "    'name': 'shiksha',\n",
        "    'age': 26,\n",
        "    'city': 'bhopal'\n",
        "}\n",
        "print(my_dict)"
      ],
      "execution_count": 7,
      "outputs": [
        {
          "output_type": "stream",
          "name": "stdout",
          "text": [
            "{'name': 'shiksha', 'age': 26, 'city': 'bhopal'}\n"
          ]
        }
      ]
    },
    {
      "cell_type": "markdown",
      "source": [
        "5. Why might you use a set instead of a list in Python ?\n",
        "Ans:-\n",
        "        # You might use a set instead of a list in Python for a few key reasons, primarily when you need to store a collection of unique items and require fast look-up times. Sets are also useful when the order of elements doesn't matter."
      ],
      "metadata": {
        "id": "RQoZ0JQiWXbo"
      }
    },
    {
      "cell_type": "code",
      "source": [],
      "metadata": {
        "id": "yE3upnDQWXEg"
      },
      "execution_count": null,
      "outputs": []
    },
    {
      "cell_type": "code",
      "metadata": {
        "colab": {
          "base_uri": "https://localhost:8080/"
        },
        "id": "c7499b81",
        "outputId": "491ec701-54a3-4b7b-9e38-9c5a7bb2a928"
      },
      "source": [
        "viewed_products_list = ['milk', 'bread', 'milk', 'cheese', 'bread', 'cheese']\n",
        "print (viewed_products_list)"
      ],
      "execution_count": 9,
      "outputs": [
        {
          "output_type": "stream",
          "name": "stdout",
          "text": [
            "['milk', 'bread', 'milk', 'cheese', 'bread', 'cheese']\n"
          ]
        }
      ]
    },
    {
      "cell_type": "markdown",
      "source": [
        "6. What is a string in Python, and how is it different from a list?\n",
        "\n",
        "Ans:-\n",
        "     # string in Python - A string in Python is a sequence of characters, used to represent text. You create a string by enclosing a sequence of characters in single, double, or triple quotes.\n",
        " example -"
      ],
      "metadata": {
        "id": "-c9qlUlKXPfn"
      }
    },
    {
      "cell_type": "code",
      "source": [],
      "metadata": {
        "id": "zQ6BgX2fXPHr"
      },
      "execution_count": null,
      "outputs": []
    },
    {
      "cell_type": "code",
      "metadata": {
        "colab": {
          "base_uri": "https://localhost:8080/"
        },
        "id": "8fad6fb3",
        "outputId": "ae89f930-e967-40b2-9558-1b99e6d6ccb1"
      },
      "source": [
        "str = ( 'pwskills!' )\n",
        "print(str)"
      ],
      "execution_count": 11,
      "outputs": [
        {
          "output_type": "stream",
          "name": "stdout",
          "text": [
            "pwskills!\n"
          ]
        }
      ]
    },
    {
      "cell_type": "markdown",
      "source": [
        "                    #defferent string and list -\n",
        "\n",
        "           # feature             string             list\n",
        "            mutability          immutable          mutable\n",
        "            content              (tex)              int,float"
      ],
      "metadata": {
        "id": "ArGyJT7kXrpi"
      }
    },
    {
      "cell_type": "code",
      "source": [],
      "metadata": {
        "id": "mWqTHx3RXrRU"
      },
      "execution_count": null,
      "outputs": []
    },
    {
      "cell_type": "code",
      "metadata": {
        "colab": {
          "base_uri": "https://localhost:8080/"
        },
        "id": "3b17d5fc",
        "outputId": "a0c88ea5-5d14-48c9-80f0-24a1240c5ba6"
      },
      "source": [
        "my_string =\"hii\"\n",
        "print(my_string)\n"
      ],
      "execution_count": 14,
      "outputs": [
        {
          "output_type": "stream",
          "name": "stdout",
          "text": [
            "hii\n"
          ]
        }
      ]
    },
    {
      "cell_type": "code",
      "source": [
        "my_list =[\"1\", \"apple\", \"bag\"]\n",
        "print(my_list)"
      ],
      "metadata": {
        "colab": {
          "base_uri": "https://localhost:8080/"
        },
        "id": "qEhSmtoyYUQ8",
        "outputId": "35a06eb3-a081-4f9a-b76d-98c9dff349d7"
      },
      "execution_count": 17,
      "outputs": [
        {
          "output_type": "stream",
          "name": "stdout",
          "text": [
            "['1', 'apple', 'bag']\n"
          ]
        }
      ]
    },
    {
      "cell_type": "markdown",
      "source": [],
      "metadata": {
        "id": "j6n1wD9FYx7q"
      }
    },
    {
      "cell_type": "code",
      "source": [],
      "metadata": {
        "id": "Op3BuY8LYxYC"
      },
      "execution_count": null,
      "outputs": []
    }
  ]
}
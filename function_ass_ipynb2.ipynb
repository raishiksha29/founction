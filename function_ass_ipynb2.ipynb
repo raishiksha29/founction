{
  "nbformat": 4,
  "nbformat_minor": 0,
  "metadata": {
    "colab": {
      "provenance": []
    },
    "kernelspec": {
      "name": "python3",
      "display_name": "Python 3"
    },
    "language_info": {
      "name": "python"
    }
  },
  "cells": [
    {
      "cell_type": "markdown",
      "source": [
        "# **Function Assengment**\n",
        "\n",
        "\n",
        "## Q.1  What are data structures, and why are they important?\n",
        "\n",
        "Ans:- data structures aren't a programming language or an application, but rather a set of rules and relationships for arranging data.\n",
        "# data structure are importace-**\n",
        "                  Data structures are crucial because they directly impact the efficiency, performance, and scalability of a program. Choosing the right data structure can be the difference between a program that runs instantly and one that takes hours to complete.\n",
        "\n",
        "# Q.2 Explain the difference between mutable and immutable data types with examples ?\n",
        "\n",
        "Ans:-\n",
        "     **Mutable data type -** Mutable data types are objects whose value can be changed in place after creation. This means you can add, remove, or change elements without creating a new object in memory.\n",
        "example-\n"
      ],
      "metadata": {
        "id": "LhkcqYVCSxTW"
      }
    },
    {
      "cell_type": "markdown",
      "source": [
        "Immutable data type-**\n",
        "            Immutable data types are objects whose value cannot be changed after they are created."
      ],
      "metadata": {
        "id": "uJnBnIj7UB3_"
      }
    },
    {
      "cell_type": "code",
      "source": [
        "my_string = \"hello\"\n",
        "new_string = my_string + \" world\"\n"
      ],
      "metadata": {
        "id": "K3d0ZmMsUPMI"
      },
      "execution_count": null,
      "outputs": []
    },
    {
      "cell_type": "code",
      "source": [
        " my_list = [1, 2, 3]\n",
        " print(my_list)"
      ],
      "metadata": {
        "colab": {
          "base_uri": "https://localhost:8080/"
        },
        "id": "6gbPhoEsTyfl",
        "outputId": "56f03b3d-535b-48b3-f236-8c4483d61887"
      },
      "execution_count": null,
      "outputs": [
        {
          "output_type": "stream",
          "name": "stdout",
          "text": [
            "[1, 2, 3]\n"
          ]
        }
      ]
    },
    {
      "cell_type": "markdown",
      "source": [
        "## Q.3. What are the main differences between lists and tuples in Python?\n",
        "\n",
        "Ans-   \n",
        "      #lists:-\n",
        "              1.mutability is mutable\n",
        "              2.syntax -[]\n",
        "              3.methods- append() , remove()\n",
        "      #Truples:-\n",
        "              1. mutability is immutable\n",
        "              2.syntax -()\n",
        "              3.methods- count() , index()\n"
      ],
      "metadata": {
        "id": "ccelPD5lUc0q"
      }
    },
    {
      "cell_type": "code",
      "source": [
        "my_list = [1, 2, 3]\n",
        "my_list.append(4)  # Modifying the list\n",
        "print(my_list)"
      ],
      "metadata": {
        "colab": {
          "base_uri": "https://localhost:8080/"
        },
        "id": "6JWzw64JUbpC",
        "outputId": "ed490200-d7b8-4f29-e55b-635b1bbb3db6"
      },
      "execution_count": null,
      "outputs": [
        {
          "output_type": "stream",
          "name": "stdout",
          "text": [
            "[1, 2, 3, 4]\n"
          ]
        }
      ]
    },
    {
      "cell_type": "code",
      "metadata": {
        "colab": {
          "base_uri": "https://localhost:8080/"
        },
        "id": "ae1de40a",
        "outputId": "2c8dc3f5-c0d8-4408-cfcc-a256743c5335"
      },
      "source": [
        "my_tuple = (1, 2, 3)\n",
        "# The following line will raise an error because tuples are immutable:\n",
        "# my_tuple[0] = 5\n",
        "print(my_tuple)"
      ],
      "execution_count": null,
      "outputs": [
        {
          "output_type": "stream",
          "name": "stdout",
          "text": [
            "(1, 2, 3)\n"
          ]
        }
      ]
    },
    {
      "cell_type": "markdown",
      "source": [
        "# Q.4. Describe how dictionaries store data ?\n",
        "\n",
        "Ans:-\n",
        "     # Python dictionaries are implemented using a hash table (or hash map). This is an underlying data structure that allows for very fast lookups.\n",
        "           \n",
        "              1.Hashing the Key\n",
        "              2.Storing the Pair\n",
        "              3.Retrieving Data"
      ],
      "metadata": {
        "id": "mmWNj33SV3v7"
      }
    },
    {
      "cell_type": "code",
      "metadata": {
        "colab": {
          "base_uri": "https://localhost:8080/"
        },
        "id": "856f9e37",
        "outputId": "e9028c8c-e30f-4edd-bd93-499babd3e769"
      },
      "source": [
        "my_dict = {\n",
        "    'name': 'shiksha',\n",
        "    'age': 26,\n",
        "    'city': 'bhopal'\n",
        "}\n",
        "print(my_dict)"
      ],
      "execution_count": null,
      "outputs": [
        {
          "output_type": "stream",
          "name": "stdout",
          "text": [
            "{'name': 'shiksha', 'age': 26, 'city': 'bhopal'}\n"
          ]
        }
      ]
    },
    {
      "cell_type": "markdown",
      "source": [
        "# Q.5. Why might you use a set instead of a list in Python ?\n",
        "Ans:-\n",
        "        # You might use a set instead of a list in Python for a few key reasons, primarily when you need to store a collection of unique items and require fast look-up times. Sets are also useful when the order of elements doesn't matter.bold text"
      ],
      "metadata": {
        "id": "RQoZ0JQiWXbo"
      }
    },
    {
      "cell_type": "code",
      "metadata": {
        "colab": {
          "base_uri": "https://localhost:8080/"
        },
        "id": "c7499b81",
        "outputId": "491ec701-54a3-4b7b-9e38-9c5a7bb2a928"
      },
      "source": [
        "viewed_products_list = ['milk', 'bread', 'milk', 'cheese', 'bread', 'cheese']\n",
        "print (viewed_products_list)"
      ],
      "execution_count": null,
      "outputs": [
        {
          "output_type": "stream",
          "name": "stdout",
          "text": [
            "['milk', 'bread', 'milk', 'cheese', 'bread', 'cheese']\n"
          ]
        }
      ]
    },
    {
      "cell_type": "markdown",
      "source": [
        "# Q.6. What is a string in Python, and how is it different from a list?\n",
        "\n",
        "Ans:-\n",
        "     # string in Python - A string in Python is a sequence of characters, used to represent text. You create a string by enclosing a sequence of characters in single, double, or triple quotes.\n",
        " example -"
      ],
      "metadata": {
        "id": "-c9qlUlKXPfn"
      }
    },
    {
      "cell_type": "code",
      "metadata": {
        "colab": {
          "base_uri": "https://localhost:8080/"
        },
        "id": "8fad6fb3",
        "outputId": "ae89f930-e967-40b2-9558-1b99e6d6ccb1"
      },
      "source": [
        "str = ( 'pwskills!' )\n",
        "print(str)"
      ],
      "execution_count": null,
      "outputs": [
        {
          "output_type": "stream",
          "name": "stdout",
          "text": [
            "pwskills!\n"
          ]
        }
      ]
    },
    {
      "cell_type": "markdown",
      "source": [
        "                    #defferent string and list -\n",
        "\n",
        "           # feature             string             list\n",
        "            mutability          immutable          mutable\n",
        "            content              (tex)              int,float"
      ],
      "metadata": {
        "id": "ArGyJT7kXrpi"
      }
    },
    {
      "cell_type": "code",
      "metadata": {
        "colab": {
          "base_uri": "https://localhost:8080/"
        },
        "id": "3b17d5fc",
        "outputId": "a0c88ea5-5d14-48c9-80f0-24a1240c5ba6"
      },
      "source": [
        "my_string =\"hii\"\n",
        "print(my_string)\n"
      ],
      "execution_count": null,
      "outputs": [
        {
          "output_type": "stream",
          "name": "stdout",
          "text": [
            "hii\n"
          ]
        }
      ]
    },
    {
      "cell_type": "code",
      "source": [
        "my_tuple = (10, 20, 30)\n",
        "print(my_tuple)"
      ],
      "metadata": {
        "colab": {
          "base_uri": "https://localhost:8080/"
        },
        "id": "qEhSmtoyYUQ8",
        "outputId": "35a06eb3-a081-4f9a-b76d-98c9dff349d7"
      },
      "execution_count": null,
      "outputs": [
        {
          "output_type": "stream",
          "name": "stdout",
          "text": [
            "['1', 'apple', 'bag']\n"
          ]
        }
      ]
    },
    {
      "cell_type": "markdown",
      "source": [
        "## Q.7 How do tuples ensure data integrity in Python ?\n",
        "\n",
        "Ans:-  \n",
        "      Tuples ensure data integrity in Python because they are immutable. This means that once a tuple is created, its elements cannot be changed, added, or removed.The immutability of tuples prevents accidental modification of data."
      ],
      "metadata": {
        "id": "j6n1wD9FYx7q"
      }
    },
    {
      "cell_type": "code",
      "source": [
        "my_bag = [\"apple\", \"brinjal\", \"gold\"]\n",
        "print(my_bag)"
      ],
      "metadata": {
        "colab": {
          "base_uri": "https://localhost:8080/"
        },
        "id": "Op3BuY8LYxYC",
        "outputId": "30c76372-de1d-46fd-9d97-f609c028f21d"
      },
      "execution_count": null,
      "outputs": [
        {
          "output_type": "stream",
          "name": "stdout",
          "text": [
            "['apple', 'brinjal', 'gold']\n"
          ]
        }
      ]
    },
    {
      "cell_type": "markdown",
      "source": [
        "### Q.8 What is a hash table, and how does it relate to dictionaries in Python ?\n",
        "\n",
        "Ans:-  \n",
        "       #A hash table, also known as a hash map, is a data structure that stores data in key-value pairs. It uses a hash function to compute an index into an array of buckets or slots, from which the desired value can be found. This allows for extremely fast lookups, insertions, and deletions.\n",
        "             \n",
        "    #Relation to Dictionaries in Python\n",
        "          -Python's dictionaries are implemented as hash tables. This is a fundamental concept that explains why dictionaries are so efficient for data retrieval.\n",
        "\n",
        "                  @ Key-Value Storage:      \n",
        "                  @ Hashing of Keys:\n",
        "                  @ Fast Operations:\n",
        "                  @ Immutability of Keys:\n"
      ],
      "metadata": {
        "id": "EJ8Wgk1KdnRh"
      }
    },
    {
      "cell_type": "code",
      "source": [
        "my_dict = {\n",
        "    'apple': 1,\n",
        "    'banana': 2,\n",
        "    'cherry': 3\n",
        "}"
      ],
      "metadata": {
        "id": "bwC29gdFdmha"
      },
      "execution_count": null,
      "outputs": []
    },
    {
      "cell_type": "markdown",
      "source": [
        "\n",
        " Q.10 What is the difference between `map()`, `reduce()`, and `filter()` functions in Python?\n",
        "\n",
        "Ans:- In Python, map(), filter(), and reduce() are functions that process iterables, but they differ in their purpose and the output they produce.\n",
        "\n",
        ".1.**map()** transforms each item of an iterable and returns a new iterable of the same length with the transformed items.\n",
        "\n",
        "2.**filter()** selects items from an iterable based on a condition and returns a new iterable containing only the items that meet that condition.\n",
        "\n",
        "3**.reduce(**) combines all items in an iterable to produce a single cumulative value.\n",
        "\n",
        "\n",
        "\n"
      ],
      "metadata": {
        "id": "fGXjXCaxgByn"
      }
    },
    {
      "cell_type": "code",
      "metadata": {
        "id": "dea130fa"
      },
      "source": [
        "numbers = [1, 2, 3, 4]\n",
        "\n",
        "# Define a function to double a number\n",
        "def double(x):\n",
        "    return x * 2\n",
        "\n",
        "# Apply the function to each number using map()\n",
        "doubled_numbers_map = map(double, numbers)"
      ],
      "execution_count": 3,
      "outputs": []
    },
    {
      "cell_type": "markdown",
      "source": [
        "## Q.11. Using pen & Paper write the internal mechanism for sum operation using  reduce function on this given\n",
        "list:[47,11,42,13];"
      ],
      "metadata": {
        "id": "MX7cFq4W1Qha"
      }
    },
    {
      "cell_type": "code",
      "metadata": {
        "colab": {
          "base_uri": "https://localhost:8080/"
        },
        "id": "cd64524d",
        "outputId": "981a6e31-5d79-457b-b646-b94a064bc56e"
      },
      "source": [
        "numbers = [47, 11, 42, 13]\n",
        "\n",
        "# Define a function to check if a number is greater than 20\n",
        "def greater_than_20(x):\n",
        "  return x > 20\n",
        "\n",
        "# Use filter() to get numbers greater than 20\n",
        "filtered_numbers = list(filter(greater_than_20, numbers))\n",
        "\n",
        "# Print the result\n",
        "print(filtered_numbers)"
      ],
      "execution_count": 4,
      "outputs": [
        {
          "output_type": "stream",
          "name": "stdout",
          "text": [
            "[47, 42]\n"
          ]
        }
      ]
    }
  ]
}
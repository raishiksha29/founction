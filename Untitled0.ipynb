{
  "nbformat": 4,
  "nbformat_minor": 0,
  "metadata": {
    "colab": {
      "provenance": []
    },
    "kernelspec": {
      "name": "python3",
      "display_name": "Python 3"
    },
    "language_info": {
      "name": "python"
    }
  },
  "cells": [
    {
      "cell_type": "markdown",
      "source": [
        "6. What is a string in Python, and how is it different from a list?\n",
        "\n",
        "Ans:- string in Python - A string in Python is a sequence of characters, used to represent text. You create a string by enclosing a sequence of characters in single, double, or triple quotes.\n",
        "example -\n",
        "      "
      ],
      "metadata": {
        "id": "O5L8afgqQZ3i"
      }
    },
    {
      "cell_type": "code",
      "source": [
        "\n",
        "          str = ( 'Hello, world!')\n",
        "          print(str)"
      ],
      "metadata": {
        "colab": {
          "base_uri": "https://localhost:8080/"
        },
        "id": "C44eDeCmQkZC",
        "outputId": "e13c3c19-1866-4f8f-c1bd-43f363d3262b"
      },
      "execution_count": 2,
      "outputs": [
        {
          "output_type": "stream",
          "name": "stdout",
          "text": [
            "Hello, world!\n"
          ]
        }
      ]
    },
    {
      "cell_type": "markdown",
      "source": [
        "defferent string and list -\n",
        "\n",
        "feature             string             list\n",
        "mutability          immutable          mutable\n",
        "content             (tex)              int,float"
      ],
      "metadata": {
        "id": "e7fmuuYGQ0u1"
      }
    },
    {
      "cell_type": "markdown",
      "source": [
        "2. Explain the difference between mutable and immutable data types with examples\n",
        "\n",
        "Ans:-**Mutable data type -** Mutable data types are objects whose value can be changed in place after creation.\n",
        "This means you can add, remove, or change elements without creating a new object in memory.\n",
        "  example-   "
      ],
      "metadata": {
        "id": "SVcZJpyVRJgS"
      }
    },
    {
      "cell_type": "code",
      "source": [
        "my_list = [1, 2, 3]\n",
        "print(my_list)"
      ],
      "metadata": {
        "colab": {
          "base_uri": "https://localhost:8080/"
        },
        "id": "RyYz9WwnRUPd",
        "outputId": "1de49979-348f-4e28-dd28-c080a1df6bf9"
      },
      "execution_count": 6,
      "outputs": [
        {
          "output_type": "stream",
          "name": "stdout",
          "text": [
            "[1, 2, 3]\n"
          ]
        }
      ]
    }
  ]
}
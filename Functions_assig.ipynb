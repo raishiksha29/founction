{
  "nbformat": 4,
  "nbformat_minor": 0,
  "metadata": {
    "colab": {
      "provenance": []
    },
    "kernelspec": {
      "name": "python3",
      "display_name": "Python 3"
    },
    "language_info": {
      "name": "python"
    }
  },
  "cells": [
    {
      "cell_type": "markdown",
      "source": [
        "          Functions Assigment\n",
        "\n",
        "Q.1  What is the difference between a function and a method in Python?\n",
        "\n",
        "Ans:- In Python, the primary difference between a function and a method is how they're called and their relationship to an object.\n",
        "Example-\n",
        "\n",
        "\n",
        "\n"
      ],
      "metadata": {
        "id": "2ugvbBfy-Bix"
      }
    },
    {
      "cell_type": "code",
      "execution_count": null,
      "metadata": {
        "colab": {
          "base_uri": "https://localhost:8080/"
        },
        "id": "tKUnxJWC94P6",
        "outputId": "0548d66a-d785-49f5-ac3d-530743fa20fd"
      },
      "outputs": [
        {
          "output_type": "stream",
          "name": "stdout",
          "text": [
            "Hello, Shiksha!\n"
          ]
        }
      ],
      "source": [
        "# use of function\n",
        "def greet(name):\n",
        "    print(f\"Hello, {name}!\")\n",
        "\n",
        "greet(\"Shiksha\")"
      ]
    },
    {
      "cell_type": "code",
      "source": [
        "# use of method in python\n",
        "class bag:\n",
        "    def __init__(self, name):\n",
        "        self.name = name\n",
        "\n",
        "    def bark(self):\n",
        "        print(f\"{self.name} says woof!\")\n",
        "\n",
        "my_bag = bag(\"Buddy\")\n",
        "my_bag.bark()\n"
      ],
      "metadata": {
        "colab": {
          "base_uri": "https://localhost:8080/"
        },
        "id": "berd9rTjBX2s",
        "outputId": "6bff909c-f15d-4b07-d31a-99d5b6cac177"
      },
      "execution_count": null,
      "outputs": [
        {
          "output_type": "stream",
          "name": "stdout",
          "text": [
            "Buddy says woof!\n"
          ]
        }
      ]
    },
    {
      "cell_type": "markdown",
      "source": [
        "Q.2 Explain the concept of function arguments and parameters in Python ?\n",
        "\n",
        "Ans:- An argument is the actual value or data that is passed into the function when it is called. The arguments are assigned to the corresponding parameters.\n",
        "     # type of Arguments -\n",
        "        1. positional\n",
        "        2.keyword\n",
        "        3.Default\n",
        "        \n",
        "\n",
        "\n"
      ],
      "metadata": {
        "id": "sDYZXMi0Bt-b"
      }
    },
    {
      "cell_type": "code",
      "source": [
        "def describe_pet(animal, name):\n",
        "    print(f\"I have a {animal} named {name}.\")\n",
        "\n",
        "# 'dog' is assigned to 'animal', 'Buddy' to 'name'\n",
        "describe_pet('dog', 'Buddy')"
      ],
      "metadata": {
        "colab": {
          "base_uri": "https://localhost:8080/"
        },
        "id": "B7Ez8RMcBtoi",
        "outputId": "1befbbd7-0a5e-4f2e-d3d0-f5e915dfe798"
      },
      "execution_count": null,
      "outputs": [
        {
          "output_type": "stream",
          "name": "stdout",
          "text": [
            "I have a dog named Buddy.\n"
          ]
        }
      ]
    },
    {
      "cell_type": "markdown",
      "source": [
        "Q.3 What are the different ways to define and call a function in Python?\n",
        "\n",
        "Ans:- In Python, you can define a function using the def keyword followed by the function name, parentheses (), and a colon :. The code block for the function is indented. To call a function, you simply write its name followed by parentheses ()\n",
        "\n",
        "  # Function -\n",
        "      Defining a Function :\n",
        "           1.Simple Function Definition\n",
        "           2.Function with Parameters\n",
        "           3.Lambda Functions\n",
        "\n",
        "    Calling  a Function:\n",
        "           1.Calling a Simple Function\n",
        "           2.Calling with Positional Arguments\n",
        "           "
      ],
      "metadata": {
        "id": "ScUaezcyGdgh"
      }
    },
    {
      "cell_type": "code",
      "source": [
        "def greet():\n",
        "    print(\"Hello, world!\")"
      ],
      "metadata": {
        "id": "Ii_tjMA1GdJD"
      },
      "execution_count": null,
      "outputs": []
    },
    {
      "cell_type": "code",
      "source": [
        "greet()\n"
      ],
      "metadata": {
        "colab": {
          "base_uri": "https://localhost:8080/"
        },
        "id": "GXunYCv4PbDv",
        "outputId": "06e0b5c3-03fc-42d9-c52f-fb518fa5b4cc"
      },
      "execution_count": null,
      "outputs": [
        {
          "output_type": "stream",
          "name": "stdout",
          "text": [
            "Hello, world!\n"
          ]
        }
      ]
    },
    {
      "cell_type": "markdown",
      "source": [
        "Q.4 What is the purpose of the `return` statement in a Python function?\n",
        "\n",
        "Ans:- The return statement in a Python function is used to exit the function and send a value or values back to the part of the program that called it.  It serves as the function's output mechanism.\n",
        "\n"
      ],
      "metadata": {
        "id": "72kvBzyrPhKV"
      }
    },
    {
      "cell_type": "code",
      "source": [
        "def get_user_info():\n",
        "    name = \"payal_pari\"\n",
        "    age = 18\n",
        "    city = \"new jarsi\"\n",
        "    # This returns three values, which are packed into a tuple.\n",
        "    return name, age, city\n",
        "\n",
        "# Call the function and unpack the returned tuple into three variables.\n",
        "user_name, user_age, user_city = get_user_info()\n",
        "\n",
        "print(user_name)\n",
        "print(user_age)\n",
        "print(user_city)"
      ],
      "metadata": {
        "id": "4z3dnE7oPgs5",
        "colab": {
          "base_uri": "https://localhost:8080/"
        },
        "outputId": "6184621a-1dc6-4a43-a894-d5d1e4510a47"
      },
      "execution_count": null,
      "outputs": [
        {
          "output_type": "stream",
          "name": "stdout",
          "text": [
            "payal_pari\n",
            "18\n",
            "new jarsi\n"
          ]
        }
      ]
    },
    {
      "cell_type": "markdown",
      "source": [
        "Q.5 What are iterators in Python and how do they differ from iterables?\n",
        "\n",
        "Ans:- Iterators and iterables are fundamental concepts in Python for handling sequences of data, but they serve different roles.\n",
        "\n",
        "      #Iterables - An iterable is an object you can loop over or iterate through.   "
      ],
      "metadata": {
        "id": "gbXTyU02XB6N"
      }
    },
    {
      "cell_type": "code",
      "source": [
        "my_list = [\"banana\", \"brinjal\",\"24 coins\", \"apple\"]\n",
        "for item in my_list:\n",
        "    print(item)"
      ],
      "metadata": {
        "colab": {
          "base_uri": "https://localhost:8080/"
        },
        "id": "rVrRXj84XBuN",
        "outputId": "7dbe6e8a-ef22-4178-dec6-ecea8e39c698"
      },
      "execution_count": null,
      "outputs": [
        {
          "output_type": "stream",
          "name": "stdout",
          "text": [
            "banana\n",
            "brinjal\n",
            "24 coins\n",
            "apple\n"
          ]
        }
      ]
    },
    {
      "cell_type": "markdown",
      "source": [
        "     # Iterator - An iterator is an object that represents a stream of data."
      ],
      "metadata": {
        "id": "X-NYhXRyan_i"
      }
    },
    {
      "cell_type": "code",
      "source": [
        "my_list = [20, 30, 34, 84]\n",
        "my_iterator = iter(my_list) # my_iterator is an iterator\n",
        "\n",
        "print(next(my_iterator))\n",
        "print(next(my_iterator))\n",
        "print(next(my_iterator))\n",
        "print(next(my_iterator))\n",
        "# print(next(my_iterator))"
      ],
      "metadata": {
        "colab": {
          "base_uri": "https://localhost:8080/"
        },
        "id": "pyYWYMCYangE",
        "outputId": "a8568fec-519b-4419-9c69-4457827b274b"
      },
      "execution_count": null,
      "outputs": [
        {
          "output_type": "stream",
          "name": "stdout",
          "text": [
            "20\n",
            "30\n",
            "34\n",
            "84\n"
          ]
        }
      ]
    },
    {
      "cell_type": "markdown",
      "source": [
        "Q.6 Explain the concept of generators in Python and how they are defined ?\n",
        "\n",
        "Ans:- Generators are special Python functions that are used to create iterators. They generate values one at a time, on demand, instead of creating a list of all values in memory. This makes them highly memory-efficient, especially when dealing with large datasets or infinite sequences."
      ],
      "metadata": {
        "id": "hJi9Ryn_c1--"
      }
    },
    {
      "cell_type": "code",
      "source": [
        "def count_up_to(n):\n",
        "    i = 1\n",
        "    while i <= n:\n",
        "        yield i  # Pauses here and yields the value of 'i'\n",
        "        i += 1\n",
        "\n",
        "# Using the generator\n",
        "counter = count_up_to(5)\n",
        "\n",
        "# The for loop automatically handles the calls to next()\n",
        "print(\"Using a for loop:\")\n",
        "for number in counter:\n",
        "    print(number)\n"
      ],
      "metadata": {
        "colab": {
          "base_uri": "https://localhost:8080/"
        },
        "id": "Ia-QmB8wfzB4",
        "outputId": "30aa078c-cd66-479a-a967-a08decfefd16"
      },
      "execution_count": null,
      "outputs": [
        {
          "output_type": "stream",
          "name": "stdout",
          "text": [
            "Using a for loop:\n",
            "1\n",
            "2\n",
            "3\n",
            "4\n",
            "5\n"
          ]
        }
      ]
    },
    {
      "cell_type": "markdown",
      "source": [
        "Q.7  What are the advantages of using generators over regular functions?\n",
        "\n",
        "Ans:- Generators offer significant advantages over regular functions, particularly in terms of memory efficiency and lazy evaluation. While a regular function computes and returns all values at once, a generator produces values one at a time, on demand. This is achieved using the yield keyword instead of return.\n",
        "\n",
        "     #Advantages:-\n",
        "                 1.Memory Efficiency and State Preservation\n",
        "                 2.Lazy Evaluation and Infinite Sequences\n",
        "                 3.Improved Readability and Chaining"
      ],
      "metadata": {
        "id": "ugnJhtUBQibq"
      }
    },
    {
      "cell_type": "code",
      "source": [],
      "metadata": {
        "id": "wAuR9zOeQiBI"
      },
      "execution_count": null,
      "outputs": []
    },
    {
      "cell_type": "markdown",
      "source": [
        "Q.8 What is a lambda function in Python and when is it typically used?\n",
        "\n",
        "Ans:- A lambda function in Python is a small, anonymous function defined with the lambda keyword instead of def. It can take any number of arguments but can only have one single expression.\n",
        "  example-"
      ],
      "metadata": {
        "id": "USRm9lswUn-R"
      }
    },
    {
      "cell_type": "markdown",
      "metadata": {
        "id": "78c039a3"
      },
      "source": [
        "\n",
        "\n",
        "```\n",
        "# This is formatted as code\n",
        "```\n",
        "\n",
        "using a lambda function with the `filter()` function."
      ]
    },
    {
      "cell_type": "code",
      "metadata": {
        "colab": {
          "base_uri": "https://localhost:8080/"
        },
        "id": "2fc67b74",
        "outputId": "486d17c5-bb05-4fb4-e929-d863393c09f1"
      },
      "source": [
        "# Example using lambda with filter()\n",
        "numbers = [1, 12, 3, 48, 5, 6, 73, 80, 9, 10]\n",
        "\n",
        "# Use a lambda function to filter out even numbers\n",
        "even_numbers = list(filter(lambda x: x % 2 == 0, numbers))\n",
        "\n",
        "print(even_numbers)"
      ],
      "execution_count": null,
      "outputs": [
        {
          "output_type": "stream",
          "name": "stdout",
          "text": [
            "[12, 48, 6, 80, 10]\n"
          ]
        }
      ]
    },
    {
      "cell_type": "markdown",
      "source": [
        "Q.9 Explain the purpose and usage of the `map()` function in Python ?\n",
        "\n",
        "Ans:- he map() function in Python is a built-in tool that applies a given function to every item of an iterable (like a list, tuple, or set) and returns a map object, which is an iterator. It provides a clean and efficient way to transform data without using a traditional for loop.\n",
        "\n",
        "    #Purpose-\n",
        "             1.Code Conciseness\n",
        "             2.Performance\n",
        "             3.Lazy Evaluation\n",
        "\n",
        "    #Usage\n",
        "             The map() function takes two main arguments:\n",
        "\n",
        "             1.function: The function you want to apply to each item. This can be a named function or a lambda function.\n",
        "\n",
        "             2.iterable: The iterable (e.g., list, tuple, or set) containing the items you want to transform.\n"
      ],
      "metadata": {
        "id": "oBfWw079V79j"
      }
    },
    {
      "cell_type": "code",
      "source": [
        "def double(x):\n",
        "    return x * 2\n",
        "\n",
        "numbers = [1, 2, 3, 4]\n",
        "doubled_numbers = map(double, numbers)\n",
        "print(list(doubled_numbers))\n",
        "# Output: [2, 4, 6, 8]"
      ],
      "metadata": {
        "colab": {
          "base_uri": "https://localhost:8080/"
        },
        "id": "9OKlkUKuV7hs",
        "outputId": "09ac9d16-a6cd-4d37-c987-0d8390b65fac"
      },
      "execution_count": null,
      "outputs": [
        {
          "output_type": "stream",
          "name": "stdout",
          "text": [
            "[2, 4, 6, 8]\n"
          ]
        }
      ]
    },
    {
      "cell_type": "markdown",
      "source": [
        "Q.10 What is the difference between `map()`, `reduce()`, and `filter()` functions in Python?\n",
        "\n",
        "Ans:-\n",
        "       # map() applies a function to each item in an iterable and returns an iterator of the results. It's used for transforming elements, with the output having the same number of items as the input.\n",
        "\n",
        "\n"
      ],
      "metadata": {
        "id": "S1jtue-4Y7u7"
      }
    },
    {
      "cell_type": "code",
      "source": [
        "numbers = [10, 27, 32]\n",
        "squared = list(map(lambda x: x**2, numbers))\n",
        "# squared becomes [1, 4, 9]\n",
        "print(squared)"
      ],
      "metadata": {
        "id": "KnRcqOQhawcW",
        "colab": {
          "base_uri": "https://localhost:8080/"
        },
        "outputId": "20224985-59ff-4c96-a5ea-2890e2a97269"
      },
      "execution_count": 2,
      "outputs": [
        {
          "output_type": "stream",
          "name": "stdout",
          "text": [
            "[100, 729, 1024]\n"
          ]
        }
      ]
    },
    {
      "cell_type": "markdown",
      "source": [
        "    #filter() constructs an iterator from elements of an iterable for which a function returns True. It's used for selecting elements that meet a certain condition. The output may have fewer items than the input."
      ],
      "metadata": {
        "id": "SvlhJRUs0LnT"
      }
    },
    {
      "cell_type": "code",
      "source": [
        "numbers = [1, 2, 3, 4, 5, 6]\n",
        "odd_numbers = list(filter(lambda x: x % 3 == 0, numbers))\n",
        "print (odd_numbers)"
      ],
      "metadata": {
        "colab": {
          "base_uri": "https://localhost:8080/"
        },
        "id": "IStSjwxB0LPm",
        "outputId": "2f28243c-8024-49fe-cacd-7b8ff5fe8a1c"
      },
      "execution_count": 5,
      "outputs": [
        {
          "output_type": "stream",
          "name": "stdout",
          "text": [
            "[3, 6]\n"
          ]
        }
      ]
    },
    {
      "cell_type": "markdown",
      "source": [
        "    #reduce() applies a function of two arguments cumulatively to the elements of an iterable. It repeatedly combines elements until only a single value remains. It's useful for tasks like summing all numbers in a list or finding the product of all elements."
      ],
      "metadata": {
        "id": "_EuF5e8E0o0s"
      }
    },
    {
      "cell_type": "code",
      "source": [
        "from functools import reduce\n",
        "numbers = [1, 2, 3, 4]\n",
        "total = reduce(lambda x, y: x + y, numbers)\n",
        "print(total)"
      ],
      "metadata": {
        "colab": {
          "base_uri": "https://localhost:8080/"
        },
        "id": "rCHRVqRp0ogH",
        "outputId": "e18c02d0-8d9c-4f9e-e397-c6aac3d6d388"
      },
      "execution_count": 7,
      "outputs": [
        {
          "output_type": "stream",
          "name": "stdout",
          "text": [
            "10\n"
          ]
        }
      ]
    },
    {
      "cell_type": "markdown",
      "source": [
        "Q.11 11. Using pen & Paper write the internal mechanism for sum operation using  reduce function on this given list: [47,11,42,13];"
      ],
      "metadata": {
        "id": "eV8xGe0o6Ajo"
      }
    },
    {
      "cell_type": "code",
      "metadata": {
        "colab": {
          "base_uri": "https://localhost:8080/"
        },
        "id": "64925d2b",
        "outputId": "f5a4df7e-49ef-4030-dddb-b43bad4a6b23"
      },
      "source": [
        "from functools import reduce\n",
        "numbers = [47, 11, 42, 13]\n",
        "sum_result = reduce(lambda x, y: x + y, numbers)\n",
        "\n",
        "print(f\"The list is: {numbers}\")\n",
        "print(f\"The sum using reduce is: {sum_result}\")"
      ],
      "execution_count": null,
      "outputs": [
        {
          "output_type": "stream",
          "name": "stdout",
          "text": [
            "The list is: [47, 11, 42, 13]\n",
            "The sum using reduce is: 113\n"
          ]
        }
      ]
    }
  ]
}